{
  "cells": [
    {
      "cell_type": "markdown",
      "metadata": {
        "id": "iiMq6gbW2kJi"
      },
      "source": [
        "# Интеллектуальный анализ данных – весна 2022\n",
        "\n",
        "# Домашнее задание 7: Деревья. Случайный лес\n",
        "\n",
        "Правила:\n",
        "\n",
        "- Домашнее задание оценивается в 10 баллов (+1 бонусный балл).\n",
        "\n",
        "\n",
        "- Можно использовать без доказательства любые результаты, встречавшиеся на лекциях или семинарах по курсу, если получение этих результатов не является вопросом задания.\n",
        "\n",
        "\n",
        "- Можно использовать любые свободные источники с обязательным указанием ссылки на них.\n",
        "\n",
        "\n",
        "- Плагиат не допускается. При обнаружении случаев списывания, 0 за работу выставляется всем участникам нарушения, даже если можно установить, кто у кого списал.\n",
        "\n",
        "<!-- ![](https://github.com/hse-ds/iad-intro-ds/blob/master/2023/homeworks/hw07-trees/meme.jpg?raw=1) -->\n",
        "<img src=\"https://github.com/hse-ds/iad-intro-ds/blob/master/2023/homeworks/hw07-trees/meme.jpg?raw=1\" alt=\"Drawing\" style=\"width: 700px;\"/>"
      ]
    },
    {
      "cell_type": "markdown",
      "metadata": {
        "id": "fj08jnSu2kJm"
      },
      "source": [
        "## Часть 1: Основы построения решающие дерева (1.5 балла)\n",
        "\n",
        "В этой части все расчёты необходимо реализовывать в виде запрограммированных формул, например, на `numpy`. **Нельзя использовать готовые реализации**. Например, если в задании требуется рассчитать энтропию, то требуется в каком-то виде релизовать расчёт по формуле, но нельзя использовать готовую реализацию `some_module.entropy()`."
      ]
    },
    {
      "cell_type": "code",
      "execution_count": 80,
      "metadata": {
        "id": "79h__Asr2kJn"
      },
      "outputs": [],
      "source": [
        "import numpy as np\n",
        "import pandas as pd\n",
        "import matplotlib.pyplot as plt"
      ]
    },
    {
      "cell_type": "markdown",
      "metadata": {
        "id": "RZ_p98Ox2kJo"
      },
      "source": [
        "**Задание 1.1 (0.5 балла)** Пусть известно, что в вершину решающего дерева попали 10 объектов, 8 из которых имеют метку класса $k_1$, а 2 имеют метку класса $k_2$. Рассчитайте энтропию такого распределения классов (с натуральным логарифмом). Ответ округлите до двух знаков после запятой."
      ]
    },
    {
      "cell_type": "code",
      "source": [
        "np.round(-0.8*np.log2(0.8)-0.2*np.log2(0.2), 2)"
      ],
      "metadata": {
        "colab": {
          "base_uri": "https://localhost:8080/"
        },
        "id": "l7uHtCHkCiIO",
        "outputId": "608720ba-35c1-4d15-8a8f-f8d578647b1b"
      },
      "execution_count": 81,
      "outputs": [
        {
          "output_type": "execute_result",
          "data": {
            "text/plain": [
              "0.72"
            ]
          },
          "metadata": {},
          "execution_count": 81
        }
      ]
    },
    {
      "cell_type": "markdown",
      "metadata": {
        "id": "FuYcq1Vo2kJp"
      },
      "source": [
        "**Задание 1.2 (0.5 балла)** Пусть дополнительно известно, что вершина из предыдущего задания не является листовой и возможно такое разбиение, что в левое поддерево попадут все объекты класса $k_1$, а в правое - класса $k_2$. Посчитайте критерий информативности:\n",
        "\n",
        "$$\n",
        "Q(R_m, j, t) = H(R_m) - \\frac{|R_\\ell|}{|R_m|}H(R_\\ell) - \\frac{|R_r|}{|R_m|}H(R_r),\n",
        "$$\n",
        "\n",
        "где $R_m$ - множество объектов в разбиваемой вершине, $j$ - номер признака, по которому происходит разбиение, $t$ - порог разбиения, $R_\\ell$ - множество объектов в левом поддереве, $R_r$ - множество объектов в правом поддереве.\n",
        "\n",
        "Теперь в качестве $H(R)$ будем использовать индекс Джини:\n",
        "\n",
        "$$\n",
        "H(R) = \\sum_{k=1}^J p_k(1-p_k),\n",
        "$$\n",
        "где $J$ – общее количество классов (в нашем случае, $J = 2$).\n",
        "\n",
        "Ответ округлите до двух знаков после запятой."
      ]
    },
    {
      "cell_type": "code",
      "execution_count": 82,
      "metadata": {
        "id": "Nz2zJxXI2kJp",
        "colab": {
          "base_uri": "https://localhost:8080/"
        },
        "outputId": "97c7a978-4f7d-4a9f-aa2b-7cb7fb8929e0"
      },
      "outputs": [
        {
          "output_type": "execute_result",
          "data": {
            "text/plain": [
              "0.32"
            ]
          },
          "metadata": {},
          "execution_count": 82
        }
      ],
      "source": [
        "np.round(0.2*(1-0.2) + 0.8*(1-0.8) - 0.8 * 0 - 0.2 * 0, 2)"
      ]
    },
    {
      "cell_type": "markdown",
      "metadata": {
        "id": "scJCQp4Q2kJq"
      },
      "source": [
        "**Задание 1.3 (0.5 балла)** Пусть при построении дерева образовалась листовая вершина с 10 объектами, значения целевой переменной для которых следующие: [1, 10, 5, 18, 100, 30, 50, 61, 84, 47] (решается задача регрессии). Чему будут равны предсказания модели для этих объектов?"
      ]
    },
    {
      "cell_type": "code",
      "execution_count": 83,
      "metadata": {
        "id": "9P12bMEm2kJq",
        "colab": {
          "base_uri": "https://localhost:8080/"
        },
        "outputId": "645a836c-c554-44e4-fcda-f5a4574aaa51"
      },
      "outputs": [
        {
          "output_type": "execute_result",
          "data": {
            "text/plain": [
              "40.6"
            ]
          },
          "metadata": {},
          "execution_count": 83
        }
      ],
      "source": [
        "np.mean([1, 10, 5, 18, 100, 30, 50, 61, 84, 47])"
      ]
    },
    {
      "cell_type": "markdown",
      "metadata": {
        "id": "Vd-RgERQ2kJr"
      },
      "source": [
        "## Часть 2: Решающие деревья (4.5 балла)\n",
        "\n",
        "В этой части мы напишем и протестируем собственную реализацию решающего дерева."
      ]
    },
    {
      "cell_type": "code",
      "execution_count": 84,
      "metadata": {
        "id": "EJ7nJwbt2kJs"
      },
      "outputs": [],
      "source": [
        "from collections import Counter\n",
        "from typing import Dict, List, Tuple, Union"
      ]
    },
    {
      "cell_type": "markdown",
      "metadata": {
        "id": "wzRoQsQI2kJs"
      },
      "source": [
        "**Задание 2.1 (1.5 балла)** Реализуйте функцию `find_best_split()`, которая должна находить оптимальное разбиение подмножества обучающей выборки в соответствии с информационным критерием из **Задания 1.2**. В качестве меры хаотичности $H(R)$ для задачи регрессии испольуйте дисперсию подвыборки, а для задачи классификации – критерий Джини (определён в том же задании).\n",
        "\n",
        "Для категориальных признаков применяется наивный алгоритм разбиения: мы пытаемся найти одно значение, разбиение по которому сильнее всего увеличит критерий информативности. Иными словами, объекты с конкретным значением признака отправляем в левое поддерево, остальные - в правое. Обратите внимание, что это далеко не оптимальные способ учёта категориальных признаков. Например, можно было бы на каждое значение категориального признака создавать отдельное поддерево или использовать более сложные подходы. Подробнее об этом можно прочитать в конспектах [лекций](https://github.com/esokolov/ml-course-hse/blob/master/2019-fall/lecture-notes/lecture07-trees.pdf) по машинному обучению на ПМИ (раздел «Учёт категориальных признаков»).\n",
        "\n",
        "В качестве подсказок реализации можете пользоваться кодом из бонусной части семинара по решающим деревьям.\n",
        "\n",
        "**Бонус:** Разрешается делать цикл для перебора порогов, но возможна имплементация без него. За имплементацию без цикла – **бонус 1 балл**."
      ]
    },
    {
      "cell_type": "code",
      "source": [
        "#ассистент в чате написал, что тут, якобы, немного ошиблись в названиях. Цитирую \"где требуют ginis и gini_best, нужно выводить\n",
        "#значение критерия информативности ,которое Q(R_m,j,t)\"\n",
        "#раз уж он это сказал, сделаю так. Вещи, в конце концов, взаимосвязанные"
      ],
      "metadata": {
        "id": "J0sU0eDAGP5A"
      },
      "execution_count": 85,
      "outputs": []
    },
    {
      "cell_type": "code",
      "execution_count": 86,
      "metadata": {
        "id": "Xa_S84Lt2kJt"
      },
      "outputs": [],
      "source": [
        "def find_best_split(\n",
        "    feature_vector: Union[np.ndarray, pd.DataFrame],\n",
        "    target_vector: Union[np.ndarray, pd.Series],\n",
        "    task: str = \"classification\",\n",
        "    feature_type: str = \"real\"\n",
        ") -> Tuple[np.ndarray, np.ndarray, float, float]:\n",
        "    \"\"\"\n",
        "    Указания:\n",
        "    * Пороги, приводящие к попаданию в одно из поддеревьев пустого множества объектов, не рассматриваются.\n",
        "    * В качестве порогов, нужно брать среднее двух сосдених (при сортировке) значений признака\n",
        "    * Поведение функции в случае константного признака может быть любым.\n",
        "    * При одинаковых приростах Джини или дисперсии нужно выбирать минимальный сплит.\n",
        "    * За наличие в функции циклов балл будет снижен. Векторизуйте! :)\n",
        "\n",
        "    :param feature_vector: вещественнозначный вектор значений признака\n",
        "    :param target_vector: вектор классов объектов,  len(feature_vector) == len(target_vector)\n",
        "    :param task: либо `classification`, либо `regression`\n",
        "    :param feature_type: либо `real`, либо `categorical`\n",
        "\n",
        "    :return thresholds: отсортированный по возрастанию вектор со всеми возможными порогами, по которым объекты можно\n",
        "     разделить на две различные подвыборки, или поддерева\n",
        "    :return ginis: вектор со значениями критерия Джини для каждого из порогов в thresholds len(ginis) == len(thresholds)\n",
        "    :return threshold_best: оптимальный порог (число)\n",
        "    :return gini_best: оптимальное значение критерия Джини (число)\n",
        "    \"\"\"\n",
        "    thresholds = np.sort(np.unique(feature_vector))\n",
        "    if len(thresholds)==1:\n",
        "      return (thresholds, thresholds, 0, -1)\n",
        "    if feature_type == 'categorical':\n",
        "      ginis = np.vectorize(cat_feature_split_score, excluded = ['f_vec','t_vec'])(f_vec = feature_vector, t_vec = target_vector, threshold = thresholds, t= task)\n",
        "      ind = np.argmax(ginis)\n",
        "      threshold_best = thresholds[ind]\n",
        "      gini_best = ginis[ind]\n",
        "    else:\n",
        "      thresholds = (thresholds[:len(thresholds)-1]+thresholds[1:])/2\n",
        "      ginis = np.vectorize(real_feature_split_score, excluded = ['f_vec','t_vec'])(f_vec = feature_vector, t_vec = target_vector, threshold = thresholds, t= task)\n",
        "      ind = np.argmax(ginis)\n",
        "      threshold_best = thresholds[ind]\n",
        "      gini_best = ginis[ind]\n",
        "    return (thresholds, ginis, threshold_best, gini_best)\n",
        "\n",
        "def real_feature_split_score(f_vec, t_vec, threshold, t):\n",
        "  mask = f_vec<=threshold\n",
        "  left = t_vec[mask]\n",
        "  right = t_vec[~mask]\n",
        "  if t == 'classification':\n",
        "    return H_gini(t_vec)- len(left)/len(t_vec)* H_gini(left) - len(right)/len(t_vec)* H_gini(right)\n",
        "  else:\n",
        "    return H_disp(t_vec)- len(left)/len(t_vec)* H_disp(left) - len(right)/len(t_vec)* H_disp(right)\n",
        "\n",
        "\n",
        "def cat_feature_split_score(f_vec, t_vec, threshold, t):\n",
        "    mask = f_vec == threshold\n",
        "    left = t_vec[mask]\n",
        "    right = t_vec[~mask]\n",
        "    if t == 'classification':\n",
        "      return H_gini(t_vec)- len(left)/len(t_vec)* H_gini(left) - len(right)/len(t_vec)* H_gini(right)\n",
        "    else:\n",
        "      return H_disp(t_vec)- len(left)/len(t_vec)* H_disp(left) - len(right)/len(t_vec)* H_disp(right)\n",
        "\n",
        "def H_disp(R):\n",
        "    R_mean = np.mean(R)\n",
        "    return np.matmul(R-R_mean, R-R_mean)/len(R)\n",
        "\n",
        "def H_gini(R):\n",
        "    p_array = np.vectorize(gini_help, excluded = ['target'])(target = R, x=np.unique(R))\n",
        "    return np.matmul(p_array, 1-p_array)\n",
        "def gini_help(target, x):\n",
        "  return np.mean(target==x)"
      ]
    },
    {
      "cell_type": "markdown",
      "metadata": {
        "id": "7FnvJm0I2kJt"
      },
      "source": [
        "Эту функцию можно протестировать на датасете `California`."
      ]
    },
    {
      "cell_type": "code",
      "execution_count": 87,
      "metadata": {
        "id": "1bhl05662kJt"
      },
      "outputs": [],
      "source": [
        "from sklearn.datasets import fetch_california_housing"
      ]
    },
    {
      "cell_type": "code",
      "execution_count": 88,
      "metadata": {
        "id": "E7n-oqsY2kJu",
        "colab": {
          "base_uri": "https://localhost:8080/",
          "height": 206
        },
        "outputId": "dbdd631c-06a2-4ca2-b322-b197090812ce"
      },
      "outputs": [
        {
          "output_type": "execute_result",
          "data": {
            "text/plain": [
              "   MedInc  HouseAge  AveRooms  AveBedrms  Population  AveOccup  Latitude  \\\n",
              "0  8.3252      41.0  6.984127   1.023810       322.0  2.555556     37.88   \n",
              "1  8.3014      21.0  6.238137   0.971880      2401.0  2.109842     37.86   \n",
              "2  7.2574      52.0  8.288136   1.073446       496.0  2.802260     37.85   \n",
              "3  5.6431      52.0  5.817352   1.073059       558.0  2.547945     37.85   \n",
              "4  3.8462      52.0  6.281853   1.081081       565.0  2.181467     37.85   \n",
              "\n",
              "   Longitude  \n",
              "0    -122.23  \n",
              "1    -122.22  \n",
              "2    -122.24  \n",
              "3    -122.25  \n",
              "4    -122.25  "
            ],
            "text/html": [
              "\n",
              "  <div id=\"df-534f16e8-fd9b-433a-ae63-ab8b08b41142\">\n",
              "    <div class=\"colab-df-container\">\n",
              "      <div>\n",
              "<style scoped>\n",
              "    .dataframe tbody tr th:only-of-type {\n",
              "        vertical-align: middle;\n",
              "    }\n",
              "\n",
              "    .dataframe tbody tr th {\n",
              "        vertical-align: top;\n",
              "    }\n",
              "\n",
              "    .dataframe thead th {\n",
              "        text-align: right;\n",
              "    }\n",
              "</style>\n",
              "<table border=\"1\" class=\"dataframe\">\n",
              "  <thead>\n",
              "    <tr style=\"text-align: right;\">\n",
              "      <th></th>\n",
              "      <th>MedInc</th>\n",
              "      <th>HouseAge</th>\n",
              "      <th>AveRooms</th>\n",
              "      <th>AveBedrms</th>\n",
              "      <th>Population</th>\n",
              "      <th>AveOccup</th>\n",
              "      <th>Latitude</th>\n",
              "      <th>Longitude</th>\n",
              "    </tr>\n",
              "  </thead>\n",
              "  <tbody>\n",
              "    <tr>\n",
              "      <th>0</th>\n",
              "      <td>8.3252</td>\n",
              "      <td>41.0</td>\n",
              "      <td>6.984127</td>\n",
              "      <td>1.023810</td>\n",
              "      <td>322.0</td>\n",
              "      <td>2.555556</td>\n",
              "      <td>37.88</td>\n",
              "      <td>-122.23</td>\n",
              "    </tr>\n",
              "    <tr>\n",
              "      <th>1</th>\n",
              "      <td>8.3014</td>\n",
              "      <td>21.0</td>\n",
              "      <td>6.238137</td>\n",
              "      <td>0.971880</td>\n",
              "      <td>2401.0</td>\n",
              "      <td>2.109842</td>\n",
              "      <td>37.86</td>\n",
              "      <td>-122.22</td>\n",
              "    </tr>\n",
              "    <tr>\n",
              "      <th>2</th>\n",
              "      <td>7.2574</td>\n",
              "      <td>52.0</td>\n",
              "      <td>8.288136</td>\n",
              "      <td>1.073446</td>\n",
              "      <td>496.0</td>\n",
              "      <td>2.802260</td>\n",
              "      <td>37.85</td>\n",
              "      <td>-122.24</td>\n",
              "    </tr>\n",
              "    <tr>\n",
              "      <th>3</th>\n",
              "      <td>5.6431</td>\n",
              "      <td>52.0</td>\n",
              "      <td>5.817352</td>\n",
              "      <td>1.073059</td>\n",
              "      <td>558.0</td>\n",
              "      <td>2.547945</td>\n",
              "      <td>37.85</td>\n",
              "      <td>-122.25</td>\n",
              "    </tr>\n",
              "    <tr>\n",
              "      <th>4</th>\n",
              "      <td>3.8462</td>\n",
              "      <td>52.0</td>\n",
              "      <td>6.281853</td>\n",
              "      <td>1.081081</td>\n",
              "      <td>565.0</td>\n",
              "      <td>2.181467</td>\n",
              "      <td>37.85</td>\n",
              "      <td>-122.25</td>\n",
              "    </tr>\n",
              "  </tbody>\n",
              "</table>\n",
              "</div>\n",
              "      <button class=\"colab-df-convert\" onclick=\"convertToInteractive('df-534f16e8-fd9b-433a-ae63-ab8b08b41142')\"\n",
              "              title=\"Convert this dataframe to an interactive table.\"\n",
              "              style=\"display:none;\">\n",
              "        \n",
              "  <svg xmlns=\"http://www.w3.org/2000/svg\" height=\"24px\"viewBox=\"0 0 24 24\"\n",
              "       width=\"24px\">\n",
              "    <path d=\"M0 0h24v24H0V0z\" fill=\"none\"/>\n",
              "    <path d=\"M18.56 5.44l.94 2.06.94-2.06 2.06-.94-2.06-.94-.94-2.06-.94 2.06-2.06.94zm-11 1L8.5 8.5l.94-2.06 2.06-.94-2.06-.94L8.5 2.5l-.94 2.06-2.06.94zm10 10l.94 2.06.94-2.06 2.06-.94-2.06-.94-.94-2.06-.94 2.06-2.06.94z\"/><path d=\"M17.41 7.96l-1.37-1.37c-.4-.4-.92-.59-1.43-.59-.52 0-1.04.2-1.43.59L10.3 9.45l-7.72 7.72c-.78.78-.78 2.05 0 2.83L4 21.41c.39.39.9.59 1.41.59.51 0 1.02-.2 1.41-.59l7.78-7.78 2.81-2.81c.8-.78.8-2.07 0-2.86zM5.41 20L4 18.59l7.72-7.72 1.47 1.35L5.41 20z\"/>\n",
              "  </svg>\n",
              "      </button>\n",
              "      \n",
              "  <style>\n",
              "    .colab-df-container {\n",
              "      display:flex;\n",
              "      flex-wrap:wrap;\n",
              "      gap: 12px;\n",
              "    }\n",
              "\n",
              "    .colab-df-convert {\n",
              "      background-color: #E8F0FE;\n",
              "      border: none;\n",
              "      border-radius: 50%;\n",
              "      cursor: pointer;\n",
              "      display: none;\n",
              "      fill: #1967D2;\n",
              "      height: 32px;\n",
              "      padding: 0 0 0 0;\n",
              "      width: 32px;\n",
              "    }\n",
              "\n",
              "    .colab-df-convert:hover {\n",
              "      background-color: #E2EBFA;\n",
              "      box-shadow: 0px 1px 2px rgba(60, 64, 67, 0.3), 0px 1px 3px 1px rgba(60, 64, 67, 0.15);\n",
              "      fill: #174EA6;\n",
              "    }\n",
              "\n",
              "    [theme=dark] .colab-df-convert {\n",
              "      background-color: #3B4455;\n",
              "      fill: #D2E3FC;\n",
              "    }\n",
              "\n",
              "    [theme=dark] .colab-df-convert:hover {\n",
              "      background-color: #434B5C;\n",
              "      box-shadow: 0px 1px 3px 1px rgba(0, 0, 0, 0.15);\n",
              "      filter: drop-shadow(0px 1px 2px rgba(0, 0, 0, 0.3));\n",
              "      fill: #FFFFFF;\n",
              "    }\n",
              "  </style>\n",
              "\n",
              "      <script>\n",
              "        const buttonEl =\n",
              "          document.querySelector('#df-534f16e8-fd9b-433a-ae63-ab8b08b41142 button.colab-df-convert');\n",
              "        buttonEl.style.display =\n",
              "          google.colab.kernel.accessAllowed ? 'block' : 'none';\n",
              "\n",
              "        async function convertToInteractive(key) {\n",
              "          const element = document.querySelector('#df-534f16e8-fd9b-433a-ae63-ab8b08b41142');\n",
              "          const dataTable =\n",
              "            await google.colab.kernel.invokeFunction('convertToInteractive',\n",
              "                                                     [key], {});\n",
              "          if (!dataTable) return;\n",
              "\n",
              "          const docLinkHtml = 'Like what you see? Visit the ' +\n",
              "            '<a target=\"_blank\" href=https://colab.research.google.com/notebooks/data_table.ipynb>data table notebook</a>'\n",
              "            + ' to learn more about interactive tables.';\n",
              "          element.innerHTML = '';\n",
              "          dataTable['output_type'] = 'display_data';\n",
              "          await google.colab.output.renderOutput(dataTable, element);\n",
              "          const docLink = document.createElement('div');\n",
              "          docLink.innerHTML = docLinkHtml;\n",
              "          element.appendChild(docLink);\n",
              "        }\n",
              "      </script>\n",
              "    </div>\n",
              "  </div>\n",
              "  "
            ]
          },
          "metadata": {},
          "execution_count": 88
        }
      ],
      "source": [
        "data = fetch_california_housing()\n",
        "X = pd.DataFrame(data=data[\"data\"], columns=data[\"feature_names\"])\n",
        "y = data[\"target\"]\n",
        "X.head()"
      ]
    },
    {
      "cell_type": "code",
      "execution_count": 89,
      "metadata": {
        "id": "XeZs90Vw2kJu",
        "colab": {
          "base_uri": "https://localhost:8080/"
        },
        "outputId": "cb25b07b-b58c-47dd-e088-e2ba3c89373b"
      },
      "outputs": [
        {
          "output_type": "execute_result",
          "data": {
            "text/plain": [
              "array([4.526, 3.585, 3.521, ..., 0.923, 0.847, 0.894])"
            ]
          },
          "metadata": {},
          "execution_count": 89
        }
      ],
      "source": [
        "y"
      ]
    },
    {
      "cell_type": "markdown",
      "metadata": {
        "id": "4LtY19Po2kJv"
      },
      "source": [
        "Выведите график зависимости значения критерия ошибки от порогового значения при разбиении вершины по признаку `MedInc`."
      ]
    },
    {
      "cell_type": "code",
      "source": [
        "#см. комментарий выше про написанное в чате ассистентом\n",
        "t,g,t_best,g_best = find_best_split(X.MedInc, y, 'regresion', 'real')"
      ],
      "metadata": {
        "id": "ewhBMHL1DEQr"
      },
      "execution_count": 90,
      "outputs": []
    },
    {
      "cell_type": "code",
      "source": [
        "plt.plot(t,g)\n",
        "plt.xlabel('Threshold')\n",
        "plt.ylabel('Information gain')\n",
        "plt.title('Зависимость прироста информации от выбора порога')"
      ],
      "metadata": {
        "colab": {
          "base_uri": "https://localhost:8080/",
          "height": 489
        },
        "id": "neylWbq68ISJ",
        "outputId": "d663217d-3fb3-444c-a216-6c01a67586b2"
      },
      "execution_count": 91,
      "outputs": [
        {
          "output_type": "execute_result",
          "data": {
            "text/plain": [
              "Text(0.5, 1.0, 'Зависимость прироста информации от выбора порога')"
            ]
          },
          "metadata": {},
          "execution_count": 91
        },
        {
          "output_type": "display_data",
          "data": {
            "text/plain": [
              "<Figure size 640x480 with 1 Axes>"
            ],
            "image/png": "[encoded data removed]"
          },
          "metadata": {}
        }
      ]
    },
    {
      "cell_type": "markdown",
      "metadata": {
        "id": "xebAtLKY2kJv"
      },
      "source": [
        "Найдите лучший, с вашей точки зрения, предикат первой вершины решающего дерева."
      ]
    },
    {
      "cell_type": "code",
      "source": [
        "t_best #если имеется ввиду только признак MedInc, то лучший предикат - это \"MedInc<=5.03515\"\n",
        "#но я перебрал (ниже) остальные признаки, это быстро, ибо везде regression и real. И MedInc всё равно остался лучшим выбором (с соответствующим порогом, конечно)"
      ],
      "metadata": {
        "colab": {
          "base_uri": "https://localhost:8080/"
        },
        "id": "mom5fQuw-j1n",
        "outputId": "387a64b6-c090-4f2f-87b7-b78f5f67b200"
      },
      "execution_count": 93,
      "outputs": [
        {
          "output_type": "execute_result",
          "data": {
            "text/plain": [
              "5.03515"
            ]
          },
          "metadata": {},
          "execution_count": 93
        }
      ]
    },
    {
      "cell_type": "code",
      "source": [
        "for col in X.columns:                          #надеюсь, это за цикл не считается, я мог и руками 8 строчек прописать. Векторизация бы тут ничего не улучшила\n",
        "  print(find_best_split(X[col], y, 'regresion', 'real')[3], col)"
      ],
      "metadata": {
        "colab": {
          "base_uri": "https://localhost:8080/"
        },
        "id": "pEWz8iFY84dD",
        "outputId": "cd68a8a3-dd01-4e86-befb-77dcbf8e6206"
      },
      "execution_count": 94,
      "outputs": [
        {
          "output_type": "stream",
          "name": "stdout",
          "text": [
            "0.41275138620167673 MedInc\n",
            "0.030900940598320575 HouseAge\n",
            "0.15920795258922454 AveRooms\n",
            "0.015253415595942843 AveBedrms\n",
            "0.0028306480479901586 Population\n",
            "0.07391870577793169 AveOccup\n",
            "0.09033408765371931 Latitude\n",
            "0.050211052033030446 Longitude\n"
          ]
        }
      ]
    },
    {
      "cell_type": "markdown",
      "metadata": {
        "id": "Jp9NEdVB2kJx"
      },
      "source": [
        "**Задание 2.2 (1 балл)** Разберитесь с написанным кодом решающего дерева, заполните пропуски в коде и реализуйте недостающий метод `_predict_node()`.\n",
        "\n",
        "Построение дерева осуществляется согласно базовому жадному алгоритму, предложенному в лекции в разделе «Построение дерева».\n",
        "- **Выбор лучшего разбиения** необходимо производить по критерию Джини.\n",
        "- **Критерий останова:** все объекты в листе относятся к одному классу или ни по одному признаку нельзя разбить выборку.\n",
        "- **Ответ в листе:** наиболее часто встречающийся класс в листе.\n",
        "\n",
        "В задаче также предлагается получить два бонуса, по баллу на каждый!\n",
        "\n",
        "- **Реализуйте способ обрабатывать пропуски в даннх и реализуйте его, пояснив свои действия.**\n",
        "- **Реализуйте метод оценки важности признаков.**"
      ]
    },
    {
      "cell_type": "code",
      "execution_count": 95,
      "metadata": {
        "id": "b33FRs_c2kJx"
      },
      "outputs": [],
      "source": [
        "class DecisionTree:\n",
        "\n",
        "    def __init__(\n",
        "        self,\n",
        "        feature_types: Union[List[str], np.ndarray],\n",
        "        max_depth: int = None,\n",
        "        min_samples_split: int = None,\n",
        "        min_samples_leaf: int = None,\n",
        "        task: str = \"classification\"\n",
        "    ) -> None:\n",
        "\n",
        "        if np.any(list(map(lambda x: x != \"real\" and x != \"categorical\", feature_types))):\n",
        "            raise ValueError(\"There is unknown feature type\")\n",
        "\n",
        "        # В этой переменной будем хранить узлы решающего дерева. Каждая вершина хранит в себе идентификатор того,\n",
        "        # является ли она листовой. Листовые вершины хранят значение класса для предсказания, нелистовые - правого и\n",
        "        # левого детей (поддеревья для продолжения процедуры предсказания)\n",
        "        self._tree = {}\n",
        "\n",
        "        # типы признаков (категориальные или числовые)\n",
        "        self._feature_types = feature_types\n",
        "\n",
        "        # гиперпараметры дерева\n",
        "        self._max_depth = max_depth\n",
        "        self._min_samples_split = min_samples_split\n",
        "        self._min_samples_leaf = min_samples_leaf\n",
        "        self.task = task\n",
        "\n",
        "        # Переменная, если вы решите делать бонус\n",
        "        self._feature_importances = {}\n",
        "\n",
        "\n",
        "    def _fit_node(\n",
        "        self,\n",
        "        sub_X: np.ndarray,\n",
        "        sub_y: np.ndarray,\n",
        "        node: dict\n",
        "    ) -> None:\n",
        "\n",
        "        # критерий останова\n",
        "        if np.all(sub_y == sub_y[0]):\n",
        "            node[\"type\"] = \"terminal\"\n",
        "            node[\"class\"] = sub_y[0]\n",
        "            return\n",
        "\n",
        "        feature_best, threshold_best, gini_best, split = None, None, None, None\n",
        "        for feature in range(sub_X.shape[1]):\n",
        "            feature_type = self._feature_types[feature]\n",
        "            categories_map = {}\n",
        "\n",
        "            # подготавливаем признак для поиска оптимального порога\n",
        "            if feature_type == \"real\":\n",
        "                feature_vector = sub_X[:, feature]\n",
        "            elif feature_type == \"categorical\":\n",
        "                # здесь могла быть реализация более сложного подхода к обработке категориального признака\n",
        "                feature_vector = sub_X[:, feature]\n",
        "\n",
        "            # ищем оптимальный порог\n",
        "            _, _, threshold, gini = find_best_split(feature_vector, sub_y, self.task, feature_type)\n",
        "\n",
        "            if gini_best is None or gini > gini_best:\n",
        "                feature_best = feature\n",
        "                gini_best = gini\n",
        "\n",
        "                # split - маска на объекты, которые должны попасть в левое поддерево\n",
        "                if feature_type == \"real\":\n",
        "                    threshold_best = threshold\n",
        "                    split = feature_vector <=threshold_best    ###\n",
        "                elif feature_type == \"categorical\":\n",
        "                    # в данной реализации это просто значение категории\n",
        "                    threshold_best = threshold\n",
        "                    split = feature_vector==threshold_best###\n",
        "                else:\n",
        "                    raise ValueError\n",
        "\n",
        "        # записываем полученные сплиты в атрибуты класса\n",
        "        if feature_best is None:\n",
        "            node[\"type\"] = \"terminal\"\n",
        "            node[\"class\"] = Counter(sub_y).most_common(1)[0][0]\n",
        "            return\n",
        "\n",
        "        node[\"type\"] = \"nonterminal\"\n",
        "\n",
        "        node[\"feature_split\"] = feature_best\n",
        "        if self._feature_types[feature_best] == \"real\":\n",
        "            node[\"threshold\"] = threshold_best\n",
        "        elif self._feature_types[feature_best] == \"categorical\":\n",
        "            node[\"category_split\"] = threshold_best\n",
        "        else:\n",
        "            raise ValueError\n",
        "\n",
        "        node[\"left_child\"], node[\"right_child\"] = {}, {}\n",
        "        self._fit_node(sub_X[split], sub_y[split], node[\"left_child\"])\n",
        "        self._fit_node(sub_X[np.logical_not(split)], sub_y[np.logical_not(split)], node[\"right_child\"])\n",
        "\n",
        "    def _predict_node(self, x: np.ndarray, node: dict) -> int:\n",
        "        \"\"\"\n",
        "        Предсказание начинается с корневой вершины дерева и рекурсивно идёт в левое или правое поддерево в зависимости от значения\n",
        "        предиката на объекте. Листовая вершина возвращает предсказание.\n",
        "        :param x: np.array, элемент выборки\n",
        "        :param node: dict, вершина дерева\n",
        "        \"\"\"\n",
        "        if node['type']=='terminal':\n",
        "          return node['class']\n",
        "        else:\n",
        "          if node.get('category_split')==None:\n",
        "            if x[node['feature_split']]<=node['threshold']:\n",
        "              return self._predict_node(x, node['left_child'])\n",
        "            else:\n",
        "              return self._predict_node(x, node['right_child'])\n",
        "          else:\n",
        "            if x[node['feature_split']]==node['category_split']:\n",
        "              return self._predict_node(x, node['left_child'])\n",
        "            else:\n",
        "              return self._predict_node(x, node['right_child'])\n",
        "\n",
        "    def fit(self, X: np.ndarray, y: np.ndarray) -> None:\n",
        "        self._fit_node(X, y, self._tree)\n",
        "\n",
        "    def predict(self, X: np.ndarray) -> np.ndarray:\n",
        "        predicted = []\n",
        "        for x in X:\n",
        "            predicted.append(self._predict_node(x, self._tree))\n",
        "\n",
        "        return np.array(predicted)"
      ]
    },
    {
      "cell_type": "markdown",
      "metadata": {
        "id": "9fvhzDi52kJy"
      },
      "source": [
        "**Задание 2.3 (1 балл)** Загрузите таблицу `students.csv` (это немного преобразованный датасет [User Knowledge](https://archive.ics.uci.edu/ml/datasets/User+Knowledge+Modeling)). В ней признаки объекта записаны в первых пяти столбцах, а в последнем записана целевая переменная (класс: 0 или 1). Постройте на одном изображении пять кривых \"порог — значение критерия Джини\" для всех пяти признаков. Отдельно визуализируйте диаграммы рассеяния \"значение признака — класс\" для всех пяти признаков."
      ]
    },
    {
      "cell_type": "code",
      "execution_count": 96,
      "metadata": {
        "id": "yKuwkF2R2kJy"
      },
      "outputs": [],
      "source": [
        "df = pd.read_csv('https://raw.githubusercontent.com/hse-ds/iad-intro-ds/master/2023/homeworks/hw07-trees/students.csv')\n",
        "df.head()\n",
        "df.drop(columns = 'Unnamed: 0', inplace = True)"
      ]
    },
    {
      "cell_type": "code",
      "source": [
        "y = df.UNS\n",
        "X = df.drop(columns='UNS')"
      ],
      "metadata": {
        "id": "zBQRPtGksK7y"
      },
      "execution_count": 97,
      "outputs": []
    },
    {
      "cell_type": "code",
      "source": [
        "#снова смотри про слова ассистента\n",
        "plt.figure(figsize=(7,7))\n",
        "plt.title('Кривые зависимости прироста информации от выбора порога')\n",
        "plt.xlabel('Threshold')\n",
        "plt.ylabel('Information gain')\n",
        "for col in X.columns: #опять же, цикл для компактности, я мог и вручную продублировать это 5 раз (меня уже выбесил np.vectorize,\n",
        "#я целый день потратил на попытки понять, что ему не нравится. А тот просто в какой-то момент работал, в какой-то нет (на абсолютно одном и том же коде))\n",
        "  t,g = find_best_split(X[col], y, 'classification','real')[:2]\n",
        "  plt.plot(t,g, label = str(col))\n",
        "plt.legend()"
      ],
      "metadata": {
        "colab": {
          "base_uri": "https://localhost:8080/",
          "height": 658
        },
        "id": "0qxEwPosr9lV",
        "outputId": "d64116f2-346d-470d-8620-4b6a708345ef"
      },
      "execution_count": 98,
      "outputs": [
        {
          "output_type": "execute_result",
          "data": {
            "text/plain": [
              "<matplotlib.legend.Legend at 0x7f2f939c10c0>"
            ]
          },
          "metadata": {},
          "execution_count": 98
        },
        {
          "output_type": "display_data",
          "data": {
            "text/plain": [
              "<Figure size 700x700 with 1 Axes>"
            ],
            "image/png": "[encoded data removed]"
          },
          "metadata": {}
        }
      ]
    },
    {
      "cell_type": "code",
      "source": [
        "plt.figure(figsize=(30,6))\n",
        "i=1\n",
        "for col in X.columns:\n",
        "  plt.subplot(1,5,i)\n",
        "  plt.scatter(X[col],y, alpha=0.7, s=5, label = str(col))\n",
        "  plt.title('Зависимость класса от признака '+str(col))\n",
        "  plt.xlabel(str(col)+' feature value')\n",
        "  plt.ylabel('Class')\n",
        "  i+=1\n",
        "  plt.legend()\n",
        "  #P.S. Тыкни на диаграммы рассеивания, они станут больше"
      ],
      "metadata": {
        "colab": {
          "base_uri": "https://localhost:8080/",
          "height": 584
        },
        "id": "eiP5WnmpMVW3",
        "outputId": "96247647-3f4e-4190-afaa-3cd3e21cbbff"
      },
      "execution_count": 57,
      "outputs": [
        {
          "output_type": "display_data",
          "data": {
            "text/plain": [
              "<Figure size 3000x600 with 5 Axes>"
            ],
            "image/png": "[encoded data removed]"
          },
          "metadata": {}
        }
      ]
    },
    {
      "cell_type": "markdown",
      "metadata": {
        "id": "cTucKZ6y2kJz"
      },
      "source": [
        "Исходя из кривых значений критерия Джини, по какому признаку нужно производить деление выборки на два поддерева? Согласуется ли этот результат с визуальной оценкой диаграмм рассеяиния? Как бы охарактеризовали вид кривой для \"хороших\" признаков, по которым выборка делится почти идеально? Чем отличаются кривые для признаков, по которым деление практически невозможно?"
      ]
    },
    {
      "cell_type": "code",
      "execution_count": 58,
      "metadata": {
        "id": "TkS845b_2kJz"
      },
      "outputs": [],
      "source": [
        "#Исходя из кривых - явно по признаку PEG (и порогу около 0.35, ну да ладно). Так как именно на PEG кривой (т.е. при разбиении по признаку PEG)\n",
        "#мы видим самые большие значения Q (то есть сильнее всего уменьшаем хаотичность)\n",
        "\n",
        "#Да результат отлично согласуется с диаграммами рассеивания!\n",
        "#сразу видно, что на диаграмме для PEG (и только там), можно выбрать такой порог (= провести вертикальную линию), что слева\n",
        "#почти все объекты будут одного класса, а справа - почти все объекты другого. Это и значит, что предикат с этим признаком позволяет хорошо разделять объекты\n",
        "#по классам\n",
        "\n",
        "#P.S. Подозреваю, что хотели спросить про \"вид ДИАГРАММ РАССЕИВАНИЯ для \"хороших\" признаков\", ну да ладно, напишу и то, и то, на всякий случай\n",
        "#уж больно я подозрительный, извините...\n",
        "\n",
        "#вид диаграмм рассеивания  для \"хороших\" признаков - то, что я уже сказал выше: когда можно провести вертикальную прямую (то есть выбрать порог), которая\n",
        "#хорошо разделит классы (по одну сторону будут (с хорошей точностью) только объекты нулевого класса, по другую - сильно преобладать первый класс)\n",
        "#другими словами, диаграмма рассеивания должна быть очень похожа на график функции \"индикатор [a,b]\"(где отрезок [a,b] вложен в отрезок множества значений\n",
        "#признака, имеет с ним общий конец, но не два конца. Вырожденный случай или случай полного совпадения с отрезком значений больно особенны\n",
        "# - это бы значило, что все объекты в выборке одного класса\n",
        "\n",
        "#вид диаграмм рассеивания для кривых, по которым деление практически невозможно - смотря что имеется ввиду. Хочется сказать \"не такие, как я описал выше\"\n",
        "#если под \"делением\" имеется ввиду идеально отделить первый класс от второго - то это такие диаграммы, что как ни проводи вертикальную прямую,\n",
        "#хотя бы с одной стороны от неё будут находиться в большом количестве объекты обоих классов\n",
        "\n",
        "#Отсюда плавно можно перейти к \"вид кривой для \"хороших\" признаков\":\n",
        "#если по признаку можно разделить выборку идеально, то кривая будет выглядеть как для PEG - иметь максимум в \"наилучшем пороге\" и +- стабильно убывать в обе стороны\n",
        "#если деление практически невозможно, то кривая уже не имеет такого выраженного \"максимума\" и является горизонтальной или многократно скачет вверх-вниз\n",
        "#что и можно наблюдать на примере кривых для оставшихся четырёх признаков"
      ]
    },
    {
      "cell_type": "markdown",
      "metadata": {
        "id": "oGEMrNT82kJ0"
      },
      "source": [
        "**Задание 2.4 (1 балл)** Протестируйте свое решающее дерево на датасете [mushrooms](https://archive.ics.uci.edu/ml/datasets/Mushroom).\n",
        "\n",
        "1. Скачайте таблицу `agaricus-lepiota.data` (из [Data Folder](https://archive.ics.uci.edu/ml/machine-learning-databases/mushroom/)),\n",
        "2. Считайте таблицу при помощи `pandas`,\n",
        "3. Примените к каждому столбцу `LabelEncoder` (из `sklearn`), чтобы преобразовать строковые имена категорий в натуральные числа.\n",
        "\n",
        "Первый столбец — это целевая переменная (e — edible, p — poisonous) Мы будем измерять качество с помощью accuracy, так что нам не очень важно, что будет классом 1, а что — классом 0. Обучите решающее дерево на половине случайно выбранных объектов (признаки в датасете категориальные) и сделайте предсказания для оставшейся половины. Вычислите accuracy."
      ]
    },
    {
      "cell_type": "code",
      "execution_count": 99,
      "metadata": {
        "id": "2jC-cTV_2kJ1"
      },
      "outputs": [],
      "source": [
        "data = pd.read_csv('/content/agaricus-lepiota.data')"
      ]
    },
    {
      "cell_type": "code",
      "source": [
        "data.head()"
      ],
      "metadata": {
        "colab": {
          "base_uri": "https://localhost:8080/",
          "height": 236
        },
        "id": "MjakzPKspdxj",
        "outputId": "c79d8d26-86ac-424b-c34d-9e71136c1666"
      },
      "execution_count": 100,
      "outputs": [
        {
          "output_type": "execute_result",
          "data": {
            "text/plain": [
              "   p  x  s  n  t p.1  f  c n.1  k  ... s.2  w w.1 p.2 w.2  o p.3 k.1 s.3  u\n",
              "0  e  x  s  y  t   a  f  c   b  k  ...   s  w   w   p   w  o   p   n   n  g\n",
              "1  e  b  s  w  t   l  f  c   b  n  ...   s  w   w   p   w  o   p   n   n  m\n",
              "2  p  x  y  w  t   p  f  c   n  n  ...   s  w   w   p   w  o   p   k   s  u\n",
              "3  e  x  s  g  f   n  f  w   b  k  ...   s  w   w   p   w  o   e   n   a  g\n",
              "4  e  x  y  y  t   a  f  c   b  n  ...   s  w   w   p   w  o   p   k   n  g\n",
              "\n",
              "[5 rows x 23 columns]"
            ],
            "text/html": [
              "\n",
              "  <div id=\"df-99bcc261-5559-44b0-85c9-4d45a4239b9f\">\n",
              "    <div class=\"colab-df-container\">\n",
              "      <div>\n",
              "<style scoped>\n",
              "    .dataframe tbody tr th:only-of-type {\n",
              "        vertical-align: middle;\n",
              "    }\n",
              "\n",
              "    .dataframe tbody tr th {\n",
              "        vertical-align: top;\n",
              "    }\n",
              "\n",
              "    .dataframe thead th {\n",
              "        text-align: right;\n",
              "    }\n",
              "</style>\n",
              "<table border=\"1\" class=\"dataframe\">\n",
              "  <thead>\n",
              "    <tr style=\"text-align: right;\">\n",
              "      <th></th>\n",
              "      <th>p</th>\n",
              "      <th>x</th>\n",
              "      <th>s</th>\n",
              "      <th>n</th>\n",
              "      <th>t</th>\n",
              "      <th>p.1</th>\n",
              "      <th>f</th>\n",
              "      <th>c</th>\n",
              "      <th>n.1</th>\n",
              "      <th>k</th>\n",
              "      <th>...</th>\n",
              "      <th>s.2</th>\n",
              "      <th>w</th>\n",
              "      <th>w.1</th>\n",
              "      <th>p.2</th>\n",
              "      <th>w.2</th>\n",
              "      <th>o</th>\n",
              "      <th>p.3</th>\n",
              "      <th>k.1</th>\n",
              "      <th>s.3</th>\n",
              "      <th>u</th>\n",
              "    </tr>\n",
              "  </thead>\n",
              "  <tbody>\n",
              "    <tr>\n",
              "      <th>0</th>\n",
              "      <td>e</td>\n",
              "      <td>x</td>\n",
              "      <td>s</td>\n",
              "      <td>y</td>\n",
              "      <td>t</td>\n",
              "      <td>a</td>\n",
              "      <td>f</td>\n",
              "      <td>c</td>\n",
              "      <td>b</td>\n",
              "      <td>k</td>\n",
              "      <td>...</td>\n",
              "      <td>s</td>\n",
              "      <td>w</td>\n",
              "      <td>w</td>\n",
              "      <td>p</td>\n",
              "      <td>w</td>\n",
              "      <td>o</td>\n",
              "      <td>p</td>\n",
              "      <td>n</td>\n",
              "      <td>n</td>\n",
              "      <td>g</td>\n",
              "    </tr>\n",
              "    <tr>\n",
              "      <th>1</th>\n",
              "      <td>e</td>\n",
              "      <td>b</td>\n",
              "      <td>s</td>\n",
              "      <td>w</td>\n",
              "      <td>t</td>\n",
              "      <td>l</td>\n",
              "      <td>f</td>\n",
              "      <td>c</td>\n",
              "      <td>b</td>\n",
              "      <td>n</td>\n",
              "      <td>...</td>\n",
              "      <td>s</td>\n",
              "      <td>w</td>\n",
              "      <td>w</td>\n",
              "      <td>p</td>\n",
              "      <td>w</td>\n",
              "      <td>o</td>\n",
              "      <td>p</td>\n",
              "      <td>n</td>\n",
              "      <td>n</td>\n",
              "      <td>m</td>\n",
              "    </tr>\n",
              "    <tr>\n",
              "      <th>2</th>\n",
              "      <td>p</td>\n",
              "      <td>x</td>\n",
              "      <td>y</td>\n",
              "      <td>w</td>\n",
              "      <td>t</td>\n",
              "      <td>p</td>\n",
              "      <td>f</td>\n",
              "      <td>c</td>\n",
              "      <td>n</td>\n",
              "      <td>n</td>\n",
              "      <td>...</td>\n",
              "      <td>s</td>\n",
              "      <td>w</td>\n",
              "      <td>w</td>\n",
              "      <td>p</td>\n",
              "      <td>w</td>\n",
              "      <td>o</td>\n",
              "      <td>p</td>\n",
              "      <td>k</td>\n",
              "      <td>s</td>\n",
              "      <td>u</td>\n",
              "    </tr>\n",
              "    <tr>\n",
              "      <th>3</th>\n",
              "      <td>e</td>\n",
              "      <td>x</td>\n",
              "      <td>s</td>\n",
              "      <td>g</td>\n",
              "      <td>f</td>\n",
              "      <td>n</td>\n",
              "      <td>f</td>\n",
              "      <td>w</td>\n",
              "      <td>b</td>\n",
              "      <td>k</td>\n",
              "      <td>...</td>\n",
              "      <td>s</td>\n",
              "      <td>w</td>\n",
              "      <td>w</td>\n",
              "      <td>p</td>\n",
              "      <td>w</td>\n",
              "      <td>o</td>\n",
              "      <td>e</td>\n",
              "      <td>n</td>\n",
              "      <td>a</td>\n",
              "      <td>g</td>\n",
              "    </tr>\n",
              "    <tr>\n",
              "      <th>4</th>\n",
              "      <td>e</td>\n",
              "      <td>x</td>\n",
              "      <td>y</td>\n",
              "      <td>y</td>\n",
              "      <td>t</td>\n",
              "      <td>a</td>\n",
              "      <td>f</td>\n",
              "      <td>c</td>\n",
              "      <td>b</td>\n",
              "      <td>n</td>\n",
              "      <td>...</td>\n",
              "      <td>s</td>\n",
              "      <td>w</td>\n",
              "      <td>w</td>\n",
              "      <td>p</td>\n",
              "      <td>w</td>\n",
              "      <td>o</td>\n",
              "      <td>p</td>\n",
              "      <td>k</td>\n",
              "      <td>n</td>\n",
              "      <td>g</td>\n",
              "    </tr>\n",
              "  </tbody>\n",
              "</table>\n",
              "<p>5 rows × 23 columns</p>\n",
              "</div>\n",
              "      <button class=\"colab-df-convert\" onclick=\"convertToInteractive('df-99bcc261-5559-44b0-85c9-4d45a4239b9f')\"\n",
              "              title=\"Convert this dataframe to an interactive table.\"\n",
              "              style=\"display:none;\">\n",
              "        \n",
              "  <svg xmlns=\"http://www.w3.org/2000/svg\" height=\"24px\"viewBox=\"0 0 24 24\"\n",
              "       width=\"24px\">\n",
              "    <path d=\"M0 0h24v24H0V0z\" fill=\"none\"/>\n",
              "    <path d=\"M18.56 5.44l.94 2.06.94-2.06 2.06-.94-2.06-.94-.94-2.06-.94 2.06-2.06.94zm-11 1L8.5 8.5l.94-2.06 2.06-.94-2.06-.94L8.5 2.5l-.94 2.06-2.06.94zm10 10l.94 2.06.94-2.06 2.06-.94-2.06-.94-.94-2.06-.94 2.06-2.06.94z\"/><path d=\"M17.41 7.96l-1.37-1.37c-.4-.4-.92-.59-1.43-.59-.52 0-1.04.2-1.43.59L10.3 9.45l-7.72 7.72c-.78.78-.78 2.05 0 2.83L4 21.41c.39.39.9.59 1.41.59.51 0 1.02-.2 1.41-.59l7.78-7.78 2.81-2.81c.8-.78.8-2.07 0-2.86zM5.41 20L4 18.59l7.72-7.72 1.47 1.35L5.41 20z\"/>\n",
              "  </svg>\n",
              "      </button>\n",
              "      \n",
              "  <style>\n",
              "    .colab-df-container {\n",
              "      display:flex;\n",
              "      flex-wrap:wrap;\n",
              "      gap: 12px;\n",
              "    }\n",
              "\n",
              "    .colab-df-convert {\n",
              "      background-color: #E8F0FE;\n",
              "      border: none;\n",
              "      border-radius: 50%;\n",
              "      cursor: pointer;\n",
              "      display: none;\n",
              "      fill: #1967D2;\n",
              "      height: 32px;\n",
              "      padding: 0 0 0 0;\n",
              "      width: 32px;\n",
              "    }\n",
              "\n",
              "    .colab-df-convert:hover {\n",
              "      background-color: #E2EBFA;\n",
              "      box-shadow: 0px 1px 2px rgba(60, 64, 67, 0.3), 0px 1px 3px 1px rgba(60, 64, 67, 0.15);\n",
              "      fill: #174EA6;\n",
              "    }\n",
              "\n",
              "    [theme=dark] .colab-df-convert {\n",
              "      background-color: #3B4455;\n",
              "      fill: #D2E3FC;\n",
              "    }\n",
              "\n",
              "    [theme=dark] .colab-df-convert:hover {\n",
              "      background-color: #434B5C;\n",
              "      box-shadow: 0px 1px 3px 1px rgba(0, 0, 0, 0.15);\n",
              "      filter: drop-shadow(0px 1px 2px rgba(0, 0, 0, 0.3));\n",
              "      fill: #FFFFFF;\n",
              "    }\n",
              "  </style>\n",
              "\n",
              "      <script>\n",
              "        const buttonEl =\n",
              "          document.querySelector('#df-99bcc261-5559-44b0-85c9-4d45a4239b9f button.colab-df-convert');\n",
              "        buttonEl.style.display =\n",
              "          google.colab.kernel.accessAllowed ? 'block' : 'none';\n",
              "\n",
              "        async function convertToInteractive(key) {\n",
              "          const element = document.querySelector('#df-99bcc261-5559-44b0-85c9-4d45a4239b9f');\n",
              "          const dataTable =\n",
              "            await google.colab.kernel.invokeFunction('convertToInteractive',\n",
              "                                                     [key], {});\n",
              "          if (!dataTable) return;\n",
              "\n",
              "          const docLinkHtml = 'Like what you see? Visit the ' +\n",
              "            '<a target=\"_blank\" href=https://colab.research.google.com/notebooks/data_table.ipynb>data table notebook</a>'\n",
              "            + ' to learn more about interactive tables.';\n",
              "          element.innerHTML = '';\n",
              "          dataTable['output_type'] = 'display_data';\n",
              "          await google.colab.output.renderOutput(dataTable, element);\n",
              "          const docLink = document.createElement('div');\n",
              "          docLink.innerHTML = docLinkHtml;\n",
              "          element.appendChild(docLink);\n",
              "        }\n",
              "      </script>\n",
              "    </div>\n",
              "  </div>\n",
              "  "
            ]
          },
          "metadata": {},
          "execution_count": 100
        }
      ]
    },
    {
      "cell_type": "code",
      "source": [
        "from sklearn.preprocessing import LabelEncoder\n",
        "X = data.apply(LabelEncoder().fit_transform)"
      ],
      "metadata": {
        "id": "aqlHLWl_pu1K"
      },
      "execution_count": 101,
      "outputs": []
    },
    {
      "cell_type": "code",
      "source": [
        "y = X.p\n",
        "X.drop(columns = ['p'], inplace = True)"
      ],
      "metadata": {
        "id": "st9KyNMBreBn"
      },
      "execution_count": 102,
      "outputs": []
    },
    {
      "cell_type": "code",
      "source": [
        "from sklearn.model_selection import train_test_split\n",
        "X_train, X_test, y_train, y_test = train_test_split(X, y, test_size = 0.5, random_state = 77)"
      ],
      "metadata": {
        "id": "ucWYx_NgsINM"
      },
      "execution_count": 103,
      "outputs": []
    },
    {
      "cell_type": "code",
      "source": [
        "X_train = X_train.values\n",
        "y_train = y_train.values\n",
        "X_test = X_test.values\n",
        "y_test = y_test.values"
      ],
      "metadata": {
        "id": "UKvvdw_D1JG_"
      },
      "execution_count": 104,
      "outputs": []
    },
    {
      "cell_type": "code",
      "source": [
        "tree = DecisionTree(feature_types = ['categorical']*22)\n",
        "tree.fit(X_train, y_train)\n",
        "predictions = tree.predict(X_test)\n",
        "print(np.mean(y_test==predictions)) #accuracy. Чудеса"
      ],
      "metadata": {
        "colab": {
          "base_uri": "https://localhost:8080/"
        },
        "id": "NGpk1y2ntQDK",
        "outputId": "5480ddf0-c575-4242-d9c4-35d41feb3059"
      },
      "execution_count": 105,
      "outputs": [
        {
          "output_type": "stream",
          "name": "stdout",
          "text": [
            "1.0\n"
          ]
        }
      ]
    },
    {
      "cell_type": "markdown",
      "metadata": {
        "id": "8zF2fvSA2kJ2"
      },
      "source": [
        "## Часть 3: Бэггинг и случайный лес (4 балла)"
      ]
    },
    {
      "cell_type": "markdown",
      "metadata": {
        "id": "3KopEqmY2kJ2"
      },
      "source": [
        "В данной части мы будем работать [с задачей предсказания диабета у пациента](https://www.kaggle.com/uciml/pima-indians-diabetes-database/data). Посмотрим на работу бэггинга над решающими деревьями и случайного леса, сравним их работу."
      ]
    },
    {
      "cell_type": "code",
      "execution_count": 106,
      "metadata": {
        "id": "diKR-Cqz2kJ2"
      },
      "outputs": [],
      "source": [
        "from sklearn.ensemble import BaggingClassifier, RandomForestClassifier\n",
        "from sklearn.metrics import accuracy_score, precision_score, recall_score, roc_auc_score\n",
        "from sklearn.model_selection import train_test_split\n",
        "from sklearn.tree import DecisionTreeClassifier"
      ]
    },
    {
      "cell_type": "code",
      "execution_count": 107,
      "metadata": {
        "scrolled": true,
        "id": "mLyyPlgr2kJ3",
        "colab": {
          "base_uri": "https://localhost:8080/",
          "height": 224
        },
        "outputId": "1cc35745-67e9-4757-fd95-86b296bb95bb"
      },
      "outputs": [
        {
          "output_type": "stream",
          "name": "stdout",
          "text": [
            "Dataset shape: (768, 9)\n"
          ]
        },
        {
          "output_type": "execute_result",
          "data": {
            "text/plain": [
              "   Pregnancies  Glucose  BloodPressure  SkinThickness  Insulin   BMI  \\\n",
              "0            6      148             72             35        0  33.6   \n",
              "1            1       85             66             29        0  26.6   \n",
              "2            8      183             64              0        0  23.3   \n",
              "3            1       89             66             23       94  28.1   \n",
              "4            0      137             40             35      168  43.1   \n",
              "\n",
              "   DiabetesPedigreeFunction  Age  Outcome  \n",
              "0                     0.627   50        1  \n",
              "1                     0.351   31        0  \n",
              "2                     0.672   32        1  \n",
              "3                     0.167   21        0  \n",
              "4                     2.288   33        1  "
            ],
            "text/html": [
              "\n",
              "  <div id=\"df-189fc11e-d1d6-465d-8e0b-73b53ca6b685\">\n",
              "    <div class=\"colab-df-container\">\n",
              "      <div>\n",
              "<style scoped>\n",
              "    .dataframe tbody tr th:only-of-type {\n",
              "        vertical-align: middle;\n",
              "    }\n",
              "\n",
              "    .dataframe tbody tr th {\n",
              "        vertical-align: top;\n",
              "    }\n",
              "\n",
              "    .dataframe thead th {\n",
              "        text-align: right;\n",
              "    }\n",
              "</style>\n",
              "<table border=\"1\" class=\"dataframe\">\n",
              "  <thead>\n",
              "    <tr style=\"text-align: right;\">\n",
              "      <th></th>\n",
              "      <th>Pregnancies</th>\n",
              "      <th>Glucose</th>\n",
              "      <th>BloodPressure</th>\n",
              "      <th>SkinThickness</th>\n",
              "      <th>Insulin</th>\n",
              "      <th>BMI</th>\n",
              "      <th>DiabetesPedigreeFunction</th>\n",
              "      <th>Age</th>\n",
              "      <th>Outcome</th>\n",
              "    </tr>\n",
              "  </thead>\n",
              "  <tbody>\n",
              "    <tr>\n",
              "      <th>0</th>\n",
              "      <td>6</td>\n",
              "      <td>148</td>\n",
              "      <td>72</td>\n",
              "      <td>35</td>\n",
              "      <td>0</td>\n",
              "      <td>33.6</td>\n",
              "      <td>0.627</td>\n",
              "      <td>50</td>\n",
              "      <td>1</td>\n",
              "    </tr>\n",
              "    <tr>\n",
              "      <th>1</th>\n",
              "      <td>1</td>\n",
              "      <td>85</td>\n",
              "      <td>66</td>\n",
              "      <td>29</td>\n",
              "      <td>0</td>\n",
              "      <td>26.6</td>\n",
              "      <td>0.351</td>\n",
              "      <td>31</td>\n",
              "      <td>0</td>\n",
              "    </tr>\n",
              "    <tr>\n",
              "      <th>2</th>\n",
              "      <td>8</td>\n",
              "      <td>183</td>\n",
              "      <td>64</td>\n",
              "      <td>0</td>\n",
              "      <td>0</td>\n",
              "      <td>23.3</td>\n",
              "      <td>0.672</td>\n",
              "      <td>32</td>\n",
              "      <td>1</td>\n",
              "    </tr>\n",
              "    <tr>\n",
              "      <th>3</th>\n",
              "      <td>1</td>\n",
              "      <td>89</td>\n",
              "      <td>66</td>\n",
              "      <td>23</td>\n",
              "      <td>94</td>\n",
              "      <td>28.1</td>\n",
              "      <td>0.167</td>\n",
              "      <td>21</td>\n",
              "      <td>0</td>\n",
              "    </tr>\n",
              "    <tr>\n",
              "      <th>4</th>\n",
              "      <td>0</td>\n",
              "      <td>137</td>\n",
              "      <td>40</td>\n",
              "      <td>35</td>\n",
              "      <td>168</td>\n",
              "      <td>43.1</td>\n",
              "      <td>2.288</td>\n",
              "      <td>33</td>\n",
              "      <td>1</td>\n",
              "    </tr>\n",
              "  </tbody>\n",
              "</table>\n",
              "</div>\n",
              "      <button class=\"colab-df-convert\" onclick=\"convertToInteractive('df-189fc11e-d1d6-465d-8e0b-73b53ca6b685')\"\n",
              "              title=\"Convert this dataframe to an interactive table.\"\n",
              "              style=\"display:none;\">\n",
              "        \n",
              "  <svg xmlns=\"http://www.w3.org/2000/svg\" height=\"24px\"viewBox=\"0 0 24 24\"\n",
              "       width=\"24px\">\n",
              "    <path d=\"M0 0h24v24H0V0z\" fill=\"none\"/>\n",
              "    <path d=\"M18.56 5.44l.94 2.06.94-2.06 2.06-.94-2.06-.94-.94-2.06-.94 2.06-2.06.94zm-11 1L8.5 8.5l.94-2.06 2.06-.94-2.06-.94L8.5 2.5l-.94 2.06-2.06.94zm10 10l.94 2.06.94-2.06 2.06-.94-2.06-.94-.94-2.06-.94 2.06-2.06.94z\"/><path d=\"M17.41 7.96l-1.37-1.37c-.4-.4-.92-.59-1.43-.59-.52 0-1.04.2-1.43.59L10.3 9.45l-7.72 7.72c-.78.78-.78 2.05 0 2.83L4 21.41c.39.39.9.59 1.41.59.51 0 1.02-.2 1.41-.59l7.78-7.78 2.81-2.81c.8-.78.8-2.07 0-2.86zM5.41 20L4 18.59l7.72-7.72 1.47 1.35L5.41 20z\"/>\n",
              "  </svg>\n",
              "      </button>\n",
              "      \n",
              "  <style>\n",
              "    .colab-df-container {\n",
              "      display:flex;\n",
              "      flex-wrap:wrap;\n",
              "      gap: 12px;\n",
              "    }\n",
              "\n",
              "    .colab-df-convert {\n",
              "      background-color: #E8F0FE;\n",
              "      border: none;\n",
              "      border-radius: 50%;\n",
              "      cursor: pointer;\n",
              "      display: none;\n",
              "      fill: #1967D2;\n",
              "      height: 32px;\n",
              "      padding: 0 0 0 0;\n",
              "      width: 32px;\n",
              "    }\n",
              "\n",
              "    .colab-df-convert:hover {\n",
              "      background-color: #E2EBFA;\n",
              "      box-shadow: 0px 1px 2px rgba(60, 64, 67, 0.3), 0px 1px 3px 1px rgba(60, 64, 67, 0.15);\n",
              "      fill: #174EA6;\n",
              "    }\n",
              "\n",
              "    [theme=dark] .colab-df-convert {\n",
              "      background-color: #3B4455;\n",
              "      fill: #D2E3FC;\n",
              "    }\n",
              "\n",
              "    [theme=dark] .colab-df-convert:hover {\n",
              "      background-color: #434B5C;\n",
              "      box-shadow: 0px 1px 3px 1px rgba(0, 0, 0, 0.15);\n",
              "      filter: drop-shadow(0px 1px 2px rgba(0, 0, 0, 0.3));\n",
              "      fill: #FFFFFF;\n",
              "    }\n",
              "  </style>\n",
              "\n",
              "      <script>\n",
              "        const buttonEl =\n",
              "          document.querySelector('#df-189fc11e-d1d6-465d-8e0b-73b53ca6b685 button.colab-df-convert');\n",
              "        buttonEl.style.display =\n",
              "          google.colab.kernel.accessAllowed ? 'block' : 'none';\n",
              "\n",
              "        async function convertToInteractive(key) {\n",
              "          const element = document.querySelector('#df-189fc11e-d1d6-465d-8e0b-73b53ca6b685');\n",
              "          const dataTable =\n",
              "            await google.colab.kernel.invokeFunction('convertToInteractive',\n",
              "                                                     [key], {});\n",
              "          if (!dataTable) return;\n",
              "\n",
              "          const docLinkHtml = 'Like what you see? Visit the ' +\n",
              "            '<a target=\"_blank\" href=https://colab.research.google.com/notebooks/data_table.ipynb>data table notebook</a>'\n",
              "            + ' to learn more about interactive tables.';\n",
              "          element.innerHTML = '';\n",
              "          dataTable['output_type'] = 'display_data';\n",
              "          await google.colab.output.renderOutput(dataTable, element);\n",
              "          const docLink = document.createElement('div');\n",
              "          docLink.innerHTML = docLinkHtml;\n",
              "          element.appendChild(docLink);\n",
              "        }\n",
              "      </script>\n",
              "    </div>\n",
              "  </div>\n",
              "  "
            ]
          },
          "metadata": {},
          "execution_count": 107
        }
      ],
      "source": [
        "data = pd.read_csv('diabetes.csv')\n",
        "print(f\"Dataset shape: {data.shape}\")\n",
        "data.head()"
      ]
    },
    {
      "cell_type": "markdown",
      "metadata": {
        "id": "WVPpWzv92kJ3"
      },
      "source": [
        "Посмотрим на распределение целевой переменной"
      ]
    },
    {
      "cell_type": "code",
      "execution_count": 108,
      "metadata": {
        "id": "LgPQLORv2kJ3",
        "colab": {
          "base_uri": "https://localhost:8080/",
          "height": 430
        },
        "outputId": "3255deee-e29e-46dd-db96-ffff1bb38620"
      },
      "outputs": [
        {
          "output_type": "display_data",
          "data": {
            "text/plain": [
              "<Figure size 640x480 with 1 Axes>"
            ],
            "image/png": "[encoded data removed]"
          },
          "metadata": {}
        }
      ],
      "source": [
        "data['Outcome'].hist()\n",
        "plt.show()"
      ]
    },
    {
      "cell_type": "markdown",
      "metadata": {
        "id": "uwGAzNAg2kJ4"
      },
      "source": [
        "**Задание 3.1 (0.5 балла)** Разделите данные на признаки и целевую переменную. Разбейте датасет на обучающую и тестовую части в отношении 7:3. Затем разделите обучающую выборку на обучающую-обучающую и обучающую-валидационную в соотношении 7:3 (то есть в итоге должно получиться три выборки: обучающая-обучающая (0.49 от исходного датасета), обучающая-валидационная (0.21 от исходного датасета) и тестовая (0.3 от исходного датасета)."
      ]
    },
    {
      "cell_type": "code",
      "execution_count": 109,
      "metadata": {
        "id": "zxFfKt3V2kJ4"
      },
      "outputs": [],
      "source": [
        "y = data['Outcome']\n",
        "X = data.drop(columns=['Outcome'])\n",
        "X_train, X_test, y_train, y_test = train_test_split(X, y, test_size = 0.3, random_state = 77)\n",
        "X_train_train, X_train_vad, y_train_train, y_train_vad = train_test_split(X_train, y_train, test_size = 0.3, random_state = 78)"
      ]
    },
    {
      "cell_type": "markdown",
      "metadata": {
        "id": "YF0potef2kJ4"
      },
      "source": [
        "**Задание 3.2 (1 балл)** На обучающей-валидационной выборке подберите оптимальные значения гиперпараметров `max_depth` и `min_samples_leaf` для `DecisionTreeClassifier`. Для этого:\n",
        "1. Создайте списки с возможными значениями для перебора.\n",
        "2. Для каждой пары значений обучите дерево на обучающей-обучающей выборке и определите качество на обучающей-валидационной выборке. В качестве критерия будем использовать `f1-меру`.\n",
        "3. Выберите ту пару значений, которая даёт наилучшее качество на обучающей-валидационной выборке.\n",
        "\n",
        "\n",
        "Обучите решающее дерево с подобранными гиперпараметрами на **полной обучающей** выборке. Оцените качество классификации на тестовой выборке по метрикам `accuracy`, `precision` и `recall`, `auc_roc`."
      ]
    },
    {
      "cell_type": "code",
      "execution_count": 110,
      "metadata": {
        "id": "h9LJHV3m2kJ5",
        "colab": {
          "base_uri": "https://localhost:8080/"
        },
        "outputId": "941859c4-c892-4da5-a93a-b85d44f292c6"
      },
      "outputs": [
        {
          "output_type": "stream",
          "name": "stdout",
          "text": [
            "0.6666666666666667 4 24\n"
          ]
        }
      ],
      "source": [
        "#всё за меня importнули, а f1-меру - нет. Может, это знак. Посчитаю её через precision и recall\n",
        "max_depth_array = np.arange(1,20)\n",
        "min_samples_leaf_array = np.arange(1,30)\n",
        "f1_best, a_best, b_best = -1, 0, 0\n",
        "for a in max_depth_array:\n",
        "  for b in min_samples_leaf_array:\n",
        "    tree = DecisionTreeClassifier(max_depth = a, min_samples_leaf = b, random_state=25)\n",
        "    tree.fit(X_train_train,y_train_train)\n",
        "    pred = tree.predict(X_train_vad)\n",
        "    r, p = recall_score(y_train_vad, pred), precision_score(y_train_vad, pred)\n",
        "    f = 2*p*r/(p+r)\n",
        "    if f1_best< f:\n",
        "      f1_best = f\n",
        "      a_best, b_best = a, b\n",
        "print(f1_best, a_best, b_best)\n",
        "\n",
        "#кажется, лучший результат показали min_samples_leaf = 24 и глубина дерева 4"
      ]
    },
    {
      "cell_type": "code",
      "source": [
        "good_tree = DecisionTreeClassifier(max_depth= 4, min_samples_leaf = 24)\n",
        "good_tree.fit(X_train, y_train)\n",
        "pred = good_tree.predict(X_test)\n",
        "pred_proba = good_tree.predict_proba(X_test)\n",
        "print('Accuracy:', accuracy_score(y_test, pred),\n",
        "      'Precision:', precision_score(y_test, pred),\n",
        "      'Recall:', recall_score(y_test, pred),\n",
        "      'ROC-AUC:', roc_auc_score(y_test, pred_proba[:,1]))"
      ],
      "metadata": {
        "colab": {
          "base_uri": "https://localhost:8080/"
        },
        "id": "K4xTtO0bsK8z",
        "outputId": "4767e1b9-4289-4fe1-a077-0e5c3c26b4d3"
      },
      "execution_count": 113,
      "outputs": [
        {
          "output_type": "stream",
          "name": "stdout",
          "text": [
            "Accuracy: 0.7402597402597403 Precision: 0.6140350877192983 Recall: 0.4794520547945205 ROC-AUC: 0.7603173226981098\n"
          ]
        }
      ]
    },
    {
      "cell_type": "code",
      "source": [
        "#не знаю, нужно ли комментировать результат. Далеко не огонь, конечно, но бывало и хуже."
      ],
      "metadata": {
        "id": "oIdgnhF4tmlZ"
      },
      "execution_count": 72,
      "outputs": []
    },
    {
      "cell_type": "markdown",
      "metadata": {
        "id": "T_l6lZRs2kKT"
      },
      "source": [
        "**Задание 3.3 (0.5 балла)** Обучите [`BaggingClassifier`](https://scikit-learn.org/stable/modules/generated/sklearn.ensemble.BaggingClassifier.html) на 50 деревьях на **полной обучающей** выборке. Оцените качество классификации на тестовой выборке по тем же метрикам."
      ]
    },
    {
      "cell_type": "code",
      "execution_count": 115,
      "metadata": {
        "id": "bNe8Zq-Z2kKT",
        "colab": {
          "base_uri": "https://localhost:8080/"
        },
        "outputId": "d6d0ce3b-8464-4ae5-b443-cc57fdb5a1d8"
      },
      "outputs": [
        {
          "output_type": "stream",
          "name": "stdout",
          "text": [
            "Accuracy: 0.7489177489177489 Precision: 0.6056338028169014 Recall: 0.589041095890411 ROC-AUC: 0.7726720998786197\n"
          ]
        }
      ],
      "source": [
        "b_clf = BaggingClassifier(n_estimators=50, random_state=25)\n",
        "b_clf.fit(X_train, y_train)\n",
        "pred = b_clf.predict(X_test)\n",
        "pred_proba = b_clf.predict_proba(X_test)\n",
        "print('Accuracy:', accuracy_score(y_test, pred),\n",
        "      'Precision:', precision_score(y_test, pred),\n",
        "      'Recall:', recall_score(y_test, pred),\n",
        "      'ROC-AUC:', roc_auc_score(y_test, pred_proba[:,1]))"
      ]
    },
    {
      "cell_type": "code",
      "source": [
        "#Сильно ничего не изменилось, кроме recall, который подрос аж на 10%. Так что, в общем, качество улучшилось.\n",
        "#Неудивительно. За это композиции деревьев и любят больше самих деревьев. Думаю, сейчас мы немного уменьшили переобучение"
      ],
      "metadata": {
        "id": "ZFWcyVBxwQJU"
      },
      "execution_count": 74,
      "outputs": []
    },
    {
      "cell_type": "markdown",
      "metadata": {
        "id": "_gRk_7dc2kKT"
      },
      "source": [
        "**Задание 3.4 (1 балл)** Выполните кросс-валидацию на полной обучающей выборке и подберите оптимальные значения гиперпараметров `max_depth` и `min_samples_split` для `Random Forest` с 50 деревьями. Для этого:\n",
        "\n",
        "1. Создайте списки с возможными значениями для перебора.\n",
        "2. Для каждой пары значений проведите кросс-валидацию на полной обучающей выборке. Количество разбиений выберите на ваш вкус. В качестве критерия будем использовать `f1-меру`. Усредните значение критерия по всем прогонам кросс-валидации.\n",
        "3. Выберите ту пару значений, которая даёт наилучшее среднее качество.\n",
        "\n",
        "Обучите случайный лес с подобранными гиперпараметрами на **полной обучающей** выборке. Оцените качество классификации по тем же метрикам. Какая из трёх построенных моделей показала себя лучше?"
      ]
    },
    {
      "cell_type": "code",
      "execution_count": 116,
      "metadata": {
        "id": "UAvJWpHk2kKU",
        "colab": {
          "base_uri": "https://localhost:8080/"
        },
        "outputId": "b2fceac0-cba5-41e1-8b3e-c47365432b39"
      },
      "outputs": [
        {
          "output_type": "stream",
          "name": "stdout",
          "text": [
            "0.6717224772982348 12 16\n"
          ]
        }
      ],
      "source": [
        "#это моя кросс-валидация \"на коленке\", хотелось попробовать, дальше будет проведено ещё раз с помощью уже написанных (не мною) методов\n",
        "from sklearn.metrics import f1_score\n",
        "max_depth_array = np.arange(1,15)\n",
        "min_samples_split_array = np.arange(2,30)\n",
        "border = len(X_train)//3\n",
        "X1, X2, X3, y1, y2, y3 = X_train[:border],X_train[border:2*border],X_train[2*border:],y_train[:border],y_train[border:2*border],y_train[2*border:]\n",
        "X12,y12 = pd.concat([X1,X2]), pd.concat([y1,y2])\n",
        "X13,y13 = pd.concat([X1, X3]),pd.concat([y1,y3])\n",
        "X23,y23 = pd.concat([X2,X3]),pd.concat([y2,y3])\n",
        "f_best, depth_best, sam_num_best = -1,0,0\n",
        "for depth in max_depth_array:\n",
        "  for sam_num in min_samples_split_array:\n",
        "    forest = RandomForestClassifier(n_estimators = 50, max_depth = depth, min_samples_split = sam_num, random_state=25)\n",
        "    forest.fit(X12,y12)\n",
        "    pred = forest.predict(X3)\n",
        "    f1_1 = f1_score(y3,pred)\n",
        "    forest.fit(X13,y13)\n",
        "    pred = forest.predict(X2)\n",
        "    f1_2 = f1_score(y2,pred)\n",
        "    forest.fit(X23,y23)\n",
        "    pred = forest.predict(X1)\n",
        "    f1_3 = f1_score(y1,pred)\n",
        "    f = (f1_1+f1_2+f1_3)/3\n",
        "    if f>f_best:\n",
        "      f_best = f\n",
        "      depth_best,sam_num_best = depth,sam_num\n",
        "print(f_best, depth_best, sam_num_best)\n",
        "#выдало 12 и 16"
      ]
    },
    {
      "cell_type": "code",
      "source": [
        "#https://scikit-learn.org/stable/modules/generated/sklearn.model_selection.cross_val_score.html\n",
        "#отсюда взял cross_val_score\n",
        "from sklearn.model_selection import cross_val_score\n",
        "max_depth_array = np.arange(1,15)\n",
        "min_samples_split_array = np.arange(2,30)\n",
        "f_best, depth_best, sam_num_best = -1,0,0\n",
        "for depth in max_depth_array:\n",
        "  for sam_num in min_samples_split_array:\n",
        "    forest = RandomForestClassifier(n_estimators = 50, max_depth = depth, min_samples_split = sam_num, random_state=25)\n",
        "    f1 = np.mean(cross_val_score(forest, X_train, y_train, cv = 5, scoring = 'f1'))\n",
        "    if f1>f_best:\n",
        "      f_best = f1\n",
        "      depth_best,sam_num_best = depth,sam_num\n",
        "print(f_best, depth_best, sam_num_best)\n",
        "\n",
        "#выдал 14 и 8. Отличается от того, что было получено выше. Ну, либо я где-то накосячил, либо виноват рандом и разное кол-во фолдов: тут 5, выше 3"
      ],
      "metadata": {
        "colab": {
          "base_uri": "https://localhost:8080/"
        },
        "id": "rEl2VTpiVhJV",
        "outputId": "e57c894b-c87e-454b-aee6-4da8926f2c33"
      },
      "execution_count": 117,
      "outputs": [
        {
          "output_type": "stream",
          "name": "stdout",
          "text": [
            "0.6680844780809406 14 8\n"
          ]
        }
      ]
    },
    {
      "cell_type": "code",
      "source": [
        "#наконец, обучимся с подобранными гиперпараметрами и проверим качество:\n",
        "forest_cool = RandomForestClassifier(n_estimators = 50, max_depth = 14, min_samples_split=8, random_state=25)\n",
        "forest_cool.fit(X_train, y_train)\n",
        "pred = forest_cool.predict(X_test)\n",
        "pred_proba = forest_cool.predict_proba(X_test)\n",
        "print('Accuracy:', accuracy_score(y_test, pred),\n",
        "      'Precision:', precision_score(y_test, pred),\n",
        "      'Recall:', recall_score(y_test, pred),\n",
        "      'ROC-AUC:', roc_auc_score(y_test, pred_proba[:,1]))"
      ],
      "metadata": {
        "colab": {
          "base_uri": "https://localhost:8080/"
        },
        "id": "hwjwi7YoZDv2",
        "outputId": "2587d1dc-6f43-4650-da7a-e2a90ab4a4e3"
      },
      "execution_count": 120,
      "outputs": [
        {
          "output_type": "stream",
          "name": "stdout",
          "text": [
            "Accuracy: 0.7619047619047619 Precision: 0.625 Recall: 0.6164383561643836 ROC-AUC: 0.7962545517600139\n"
          ]
        }
      ]
    },
    {
      "cell_type": "code",
      "source": [
        "#хуже всего себя показал DecisionTreeClassifier. Первое место, пожалуй, достаётся случайному лесу!\n",
        "#Дерево:         Accuracy: 0.7402597402597403   Precision: 0.6140350877192983   Recall: 0.4794520547945205   ROC-AUC: 0.7603173226981098\n",
        "#Бэггинг:        Accuracy: 0.7489177489177489   Precision: 0.6056338028169014   Recall: 0.589041095890411    ROC-AUC: 0.7726720998786197\n",
        "#Случайный лес:  Accuracy: 0.7619047619047619   Precision: 0.625                Recall: 0.6164383561643836   ROC-AUC: 0.7962545517600139"
      ],
      "metadata": {
        "id": "RBc4zFHnZsOr"
      },
      "execution_count": null,
      "outputs": []
    },
    {
      "cell_type": "markdown",
      "metadata": {
        "id": "h5355FQC2kKU"
      },
      "source": [
        "**Задание 3.5 (0.5 балла)** Постройте график зависимости AUC ROC на тестовой выборке от числа деревьев (`n_estimators`) для случайного леса, обучаемого на **полной обучающей** выборке. Какие выводы можно сделать?"
      ]
    },
    {
      "cell_type": "code",
      "execution_count": null,
      "metadata": {
        "id": "kSa4jqZm2kKU"
      },
      "outputs": [],
      "source": [
        "#не уверен, имеется ли ввиду случайный лес с параметрами, как выше, или с дефолтными параметрами, поэтому на всякий случай сделаю и так, и так"
      ]
    },
    {
      "cell_type": "code",
      "source": [
        "#БЕЗ ПАРАМЕТРОВ\n",
        "from tqdm import tqdm\n",
        "roc_auc = []\n",
        "for n in tqdm(np.arange(1,1111,10)):\n",
        "  n_forest = RandomForestClassifier(n_estimators=n, random_state=23)\n",
        "  n_forest.fit(X_train, y_train)\n",
        "  roc_auc.append(roc_auc_score(y_test, n_forest.predict_proba(X_test)[:,1]))\n",
        "plt.plot(np.arange(1,1111,10),roc_auc)\n",
        "plt.title(\"Зависимость AUC ROC от числа деревьев в случайном лесу\")\n",
        "plt.xlabel('Число деревьев')\n",
        "plt.ylabel('AUC_ROC')"
      ],
      "metadata": {
        "colab": {
          "base_uri": "https://localhost:8080/",
          "height": 507
        },
        "id": "3yrCZYz-aMpt",
        "outputId": "856495f5-7334-45cb-97b9-41bd876ee7ca"
      },
      "execution_count": 78,
      "outputs": [
        {
          "output_type": "stream",
          "name": "stderr",
          "text": [
            "100%|██████████| 111/111 [01:35<00:00,  1.16it/s]\n"
          ]
        },
        {
          "output_type": "execute_result",
          "data": {
            "text/plain": [
              "Text(0, 0.5, 'AUC_ROC')"
            ]
          },
          "metadata": {},
          "execution_count": 78
        },
        {
          "output_type": "display_data",
          "data": {
            "text/plain": [
              "<Figure size 640x480 with 1 Axes>"
            ],
            "image/png": "[encoded data removed]"
          },
          "metadata": {}
        }
      ]
    },
    {
      "cell_type": "code",
      "source": [
        "#с параметрами:\n",
        "roc_auc2 = []\n",
        "for n in tqdm(np.arange(1,1111,10)):\n",
        "  n_forest = RandomForestClassifier(max_depth = 14, min_samples_split = 8, n_estimators=n, random_state=23)\n",
        "  n_forest.fit(X_train, y_train)\n",
        "  roc_auc2.append(roc_auc_score(y_test, n_forest.predict_proba(X_test)[:,1]))\n",
        "plt.plot(np.arange(1,1111,10),roc_auc2)\n",
        "plt.title(\"Зависимость AUC ROC от числа деревьев в случайном лесу\")\n",
        "plt.xlabel('Число деревьев')\n",
        "plt.ylabel('AUC_ROC')"
      ],
      "metadata": {
        "colab": {
          "base_uri": "https://localhost:8080/",
          "height": 507
        },
        "id": "n7GmeAscbok6",
        "outputId": "d3f15247-15ec-492a-d4a2-6c954ea422c1"
      },
      "execution_count": 79,
      "outputs": [
        {
          "output_type": "stream",
          "name": "stderr",
          "text": [
            "100%|██████████| 111/111 [01:33<00:00,  1.19it/s]\n"
          ]
        },
        {
          "output_type": "execute_result",
          "data": {
            "text/plain": [
              "Text(0, 0.5, 'AUC_ROC')"
            ]
          },
          "metadata": {},
          "execution_count": 79
        },
        {
          "output_type": "display_data",
          "data": {
            "text/plain": [
              "<Figure size 640x480 with 1 Axes>"
            ],
            "image/png": "[encoded data removed]"
          },
          "metadata": {}
        }
      ]
    },
    {
      "cell_type": "code",
      "source": [
        "#качественно картинка одинакова в обоих случаях\n",
        "#Выводы: решающий лес не начинает переобучаться с ростом числа деревьев! (нас этому и учили). То есть ошибка на тестовой выборке\n",
        "#(или, наоборот, как здесь, мера качества) выходит на асимптоту при росте числа деревьев (а не падает, что произошло бы при переобучении)"
      ],
      "metadata": {
        "id": "Zx6EQaH_XFlD"
      },
      "execution_count": null,
      "outputs": []
    },
    {
      "cell_type": "markdown",
      "metadata": {
        "id": "Ucj-aplV2kKV"
      },
      "source": [
        "**Задание 3.6 (0.5 балла)** Для лучшей модели случайного леса из **Задания 3.4** посчитайте важность признаков и постройте bar plot. Какой признак оказался самым важным для определения диабета?"
      ]
    },
    {
      "cell_type": "code",
      "source": [
        "forest = RandomForestClassifier(n_estimators = 50, max_depth = 14, min_samples_split = 8, random_state=25)\n",
        "forest.fit(X_train, y_train)\n",
        "plt.figure(figsize=(13,5))\n",
        "plt.bar(X_train.columns, forest.feature_importances_)\n",
        "plt.title('Важность признаков')\n",
        "plt.xlabel('Признак')\n",
        "plt.ylabel('Важность')\n",
        "#самым важным оказался уровень глюкозы. Пожалуй, я не удивлён."
      ],
      "metadata": {
        "colab": {
          "base_uri": "https://localhost:8080/",
          "height": 504
        },
        "id": "qELwUY33dzlP",
        "outputId": "80789645-bff9-4e92-8042-1c21e34f98e2"
      },
      "execution_count": 123,
      "outputs": [
        {
          "output_type": "execute_result",
          "data": {
            "text/plain": [
              "Text(0, 0.5, 'Важность')"
            ]
          },
          "metadata": {},
          "execution_count": 123
        },
        {
          "output_type": "display_data",
          "data": {
            "text/plain": [
              "<Figure size 1300x500 with 1 Axes>"
            ],
            "image/png": "[encoded data removed]"
          },
          "metadata": {}
        }
      ]
    }
  ],
  "metadata": {
    "kernelspec": {
      "display_name": "Python 3",
      "language": "python",
      "name": "python3"
    },
    "language_info": {
      "codemirror_mode": {
        "name": "ipython",
        "version": 3
      },
      "file_extension": ".py",
      "mimetype": "text/x-python",
      "name": "python",
      "nbconvert_exporter": "python",
      "pygments_lexer": "ipython3",
      "version": "3.8.5"
    },
    "colab": {
      "provenance": []
    }
  },
  "nbformat": 4,
  "nbformat_minor": 0
}